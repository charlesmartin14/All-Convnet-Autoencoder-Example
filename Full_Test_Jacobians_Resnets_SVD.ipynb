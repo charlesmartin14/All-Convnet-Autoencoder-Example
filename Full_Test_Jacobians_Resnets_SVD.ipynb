{
  "nbformat": 4,
  "nbformat_minor": 0,
  "metadata": {
    "colab": {
      "name": "Full-Test-Jacobians-Resnets-SVD.ipynb",
      "provenance": [],
      "collapsed_sections": [],
      "machine_shape": "hm",
      "authorship_tag": "ABX9TyPDV3oPF1GX3n7+Jr2dHlHH",
      "include_colab_link": true
    },
    "kernelspec": {
      "name": "python3",
      "display_name": "Python 3"
    },
    "accelerator": "GPU",
    "widgets": {
      "application/vnd.jupyter.widget-state+json": {
        "8feec3f092174f94b55a3d83a02ad66a": {
          "model_module": "@jupyter-widgets/controls",
          "model_name": "HBoxModel",
          "state": {
            "_view_name": "HBoxView",
            "_dom_classes": [],
            "_model_name": "HBoxModel",
            "_view_module": "@jupyter-widgets/controls",
            "_model_module_version": "1.5.0",
            "_view_count": null,
            "_view_module_version": "1.5.0",
            "box_style": "",
            "layout": "IPY_MODEL_beb411f5cac64f28b5704791616bdf58",
            "_model_module": "@jupyter-widgets/controls",
            "children": [
              "IPY_MODEL_a2b26495dbb34e53a9bbc73b79af40c1",
              "IPY_MODEL_69098aad323b486583c4a576f41605a3"
            ]
          }
        },
        "beb411f5cac64f28b5704791616bdf58": {
          "model_module": "@jupyter-widgets/base",
          "model_name": "LayoutModel",
          "state": {
            "_view_name": "LayoutView",
            "grid_template_rows": null,
            "right": null,
            "justify_content": null,
            "_view_module": "@jupyter-widgets/base",
            "overflow": null,
            "_model_module_version": "1.2.0",
            "_view_count": null,
            "flex_flow": null,
            "width": null,
            "min_width": null,
            "border": null,
            "align_items": null,
            "bottom": null,
            "_model_module": "@jupyter-widgets/base",
            "top": null,
            "grid_column": null,
            "overflow_y": null,
            "overflow_x": null,
            "grid_auto_flow": null,
            "grid_area": null,
            "grid_template_columns": null,
            "flex": null,
            "_model_name": "LayoutModel",
            "justify_items": null,
            "grid_row": null,
            "max_height": null,
            "align_content": null,
            "visibility": null,
            "align_self": null,
            "height": null,
            "min_height": null,
            "padding": null,
            "grid_auto_rows": null,
            "grid_gap": null,
            "max_width": null,
            "order": null,
            "_view_module_version": "1.2.0",
            "grid_template_areas": null,
            "object_position": null,
            "object_fit": null,
            "grid_auto_columns": null,
            "margin": null,
            "display": null,
            "left": null
          }
        },
        "a2b26495dbb34e53a9bbc73b79af40c1": {
          "model_module": "@jupyter-widgets/controls",
          "model_name": "FloatProgressModel",
          "state": {
            "_view_name": "ProgressView",
            "style": "IPY_MODEL_461a75e3471142539537efa047fbe472",
            "_dom_classes": [],
            "description": "",
            "_model_name": "FloatProgressModel",
            "bar_style": "success",
            "max": 1,
            "_view_module": "@jupyter-widgets/controls",
            "_model_module_version": "1.5.0",
            "value": 1,
            "_view_count": null,
            "_view_module_version": "1.5.0",
            "orientation": "horizontal",
            "min": 0,
            "description_tooltip": null,
            "_model_module": "@jupyter-widgets/controls",
            "layout": "IPY_MODEL_7210ef20e29f453489d6079ef026684a"
          }
        },
        "69098aad323b486583c4a576f41605a3": {
          "model_module": "@jupyter-widgets/controls",
          "model_name": "HTMLModel",
          "state": {
            "_view_name": "HTMLView",
            "style": "IPY_MODEL_011a1f001a074a21ad9cda1e74fd3606",
            "_dom_classes": [],
            "description": "",
            "_model_name": "HTMLModel",
            "placeholder": "​",
            "_view_module": "@jupyter-widgets/controls",
            "_model_module_version": "1.5.0",
            "value": " 169009152/? [00:07&lt;00:00, 22113313.39it/s]",
            "_view_count": null,
            "_view_module_version": "1.5.0",
            "description_tooltip": null,
            "_model_module": "@jupyter-widgets/controls",
            "layout": "IPY_MODEL_f76102b64e954511831815989ead9bd4"
          }
        },
        "461a75e3471142539537efa047fbe472": {
          "model_module": "@jupyter-widgets/controls",
          "model_name": "ProgressStyleModel",
          "state": {
            "_view_name": "StyleView",
            "_model_name": "ProgressStyleModel",
            "description_width": "initial",
            "_view_module": "@jupyter-widgets/base",
            "_model_module_version": "1.5.0",
            "_view_count": null,
            "_view_module_version": "1.2.0",
            "bar_color": null,
            "_model_module": "@jupyter-widgets/controls"
          }
        },
        "7210ef20e29f453489d6079ef026684a": {
          "model_module": "@jupyter-widgets/base",
          "model_name": "LayoutModel",
          "state": {
            "_view_name": "LayoutView",
            "grid_template_rows": null,
            "right": null,
            "justify_content": null,
            "_view_module": "@jupyter-widgets/base",
            "overflow": null,
            "_model_module_version": "1.2.0",
            "_view_count": null,
            "flex_flow": null,
            "width": null,
            "min_width": null,
            "border": null,
            "align_items": null,
            "bottom": null,
            "_model_module": "@jupyter-widgets/base",
            "top": null,
            "grid_column": null,
            "overflow_y": null,
            "overflow_x": null,
            "grid_auto_flow": null,
            "grid_area": null,
            "grid_template_columns": null,
            "flex": null,
            "_model_name": "LayoutModel",
            "justify_items": null,
            "grid_row": null,
            "max_height": null,
            "align_content": null,
            "visibility": null,
            "align_self": null,
            "height": null,
            "min_height": null,
            "padding": null,
            "grid_auto_rows": null,
            "grid_gap": null,
            "max_width": null,
            "order": null,
            "_view_module_version": "1.2.0",
            "grid_template_areas": null,
            "object_position": null,
            "object_fit": null,
            "grid_auto_columns": null,
            "margin": null,
            "display": null,
            "left": null
          }
        },
        "011a1f001a074a21ad9cda1e74fd3606": {
          "model_module": "@jupyter-widgets/controls",
          "model_name": "DescriptionStyleModel",
          "state": {
            "_view_name": "StyleView",
            "_model_name": "DescriptionStyleModel",
            "description_width": "",
            "_view_module": "@jupyter-widgets/base",
            "_model_module_version": "1.5.0",
            "_view_count": null,
            "_view_module_version": "1.2.0",
            "_model_module": "@jupyter-widgets/controls"
          }
        },
        "f76102b64e954511831815989ead9bd4": {
          "model_module": "@jupyter-widgets/base",
          "model_name": "LayoutModel",
          "state": {
            "_view_name": "LayoutView",
            "grid_template_rows": null,
            "right": null,
            "justify_content": null,
            "_view_module": "@jupyter-widgets/base",
            "overflow": null,
            "_model_module_version": "1.2.0",
            "_view_count": null,
            "flex_flow": null,
            "width": null,
            "min_width": null,
            "border": null,
            "align_items": null,
            "bottom": null,
            "_model_module": "@jupyter-widgets/base",
            "top": null,
            "grid_column": null,
            "overflow_y": null,
            "overflow_x": null,
            "grid_auto_flow": null,
            "grid_area": null,
            "grid_template_columns": null,
            "flex": null,
            "_model_name": "LayoutModel",
            "justify_items": null,
            "grid_row": null,
            "max_height": null,
            "align_content": null,
            "visibility": null,
            "align_self": null,
            "height": null,
            "min_height": null,
            "padding": null,
            "grid_auto_rows": null,
            "grid_gap": null,
            "max_width": null,
            "order": null,
            "_view_module_version": "1.2.0",
            "grid_template_areas": null,
            "object_position": null,
            "object_fit": null,
            "grid_auto_columns": null,
            "margin": null,
            "display": null,
            "left": null
          }
        }
      }
    }
  },
  "cells": [
    {
      "cell_type": "markdown",
      "metadata": {
        "id": "view-in-github",
        "colab_type": "text"
      },
      "source": [
        "<a href=\"https://colab.research.google.com/github/charlesmartin14/All-Convnet-Autoencoder-Example/blob/master/Full_Test_Jacobians_Resnets_SVD.ipynb\" target=\"_parent\"><img src=\"https://colab.research.google.com/assets/colab-badge.svg\" alt=\"Open In Colab\"/></a>"
      ]
    },
    {
      "cell_type": "markdown",
      "metadata": {
        "id": "4YGlUg538lQ4",
        "colab_type": "text"
      },
      "source": [
        "## Notebook for generating Full Jacobian SVD over the test data for ResNet data\n",
        "\n",
        "Can do the full calculation, and a batched (slow, but handles large memory cases)\n",
        "\n",
        "Can handle: ResnetXXX with CIFAR10, CIFAR100, SVHN\n",
        "\n",
        "i.e. CIFAR 10\n",
        "```\n",
        " resnet20_cifar10\n",
        " resnet56_cifar10\n",
        " resnet110_cifar10\n",
        " resnet164bn_cifar10\n",
        " resnet272bn_cifar10\n",
        "\n",
        "full_jacobian()\n",
        "\n",
        "\n",
        " resnet542bn_cifar10\n",
        " resnet1001_cifar10\n",
        " resnet1202_cifar10\n",
        "\n",
        "full_batched_jacobian()\n",
        "\n",
        "```\n",
        "\n",
        "\n",
        "\n",
        "\n"
      ]
    },
    {
      "cell_type": "code",
      "metadata": {
        "id": "4JBCL3Qj8pl6",
        "colab_type": "code",
        "colab": {}
      },
      "source": [
        "Jdir =  '/content/drive/My Drive/J_resnets_fullsvd'\n",
        "\n",
        "thismodel = 'resnet20_cifar100'\n",
        "num_classes= 100\n",
        "num_data = 10000\n",
        "\n",
        "batched = False\n",
        "start_batch = 0\n",
        "batch_size = 100\n",
        "\n",
        "device = 'cuda:0'\n"
      ],
      "execution_count": 0,
      "outputs": []
    },
    {
      "cell_type": "code",
      "metadata": {
        "id": "lSlymHmAIph5",
        "colab_type": "code",
        "outputId": "eabdff6b-53f6-4cd5-98cc-ce9d819550c2",
        "colab": {
          "base_uri": "https://localhost:8080/",
          "height": 119
        }
      },
      "source": [
        "!pip install torch==1.5.0+cu101 torchvision==0.6.0+cu101 -f https://download.pytorch.org/whl/torch_stable.html"
      ],
      "execution_count": 2,
      "outputs": [
        {
          "output_type": "stream",
          "text": [
            "Looking in links: https://download.pytorch.org/whl/torch_stable.html\n",
            "Requirement already satisfied: torch==1.5.0+cu101 in /usr/local/lib/python3.6/dist-packages (1.5.0+cu101)\n",
            "Requirement already satisfied: torchvision==0.6.0+cu101 in /usr/local/lib/python3.6/dist-packages (0.6.0+cu101)\n",
            "Requirement already satisfied: future in /usr/local/lib/python3.6/dist-packages (from torch==1.5.0+cu101) (0.16.0)\n",
            "Requirement already satisfied: numpy in /usr/local/lib/python3.6/dist-packages (from torch==1.5.0+cu101) (1.18.5)\n",
            "Requirement already satisfied: pillow>=4.1.1 in /usr/local/lib/python3.6/dist-packages (from torchvision==0.6.0+cu101) (7.0.0)\n"
          ],
          "name": "stdout"
        }
      ]
    },
    {
      "cell_type": "code",
      "metadata": {
        "id": "hZplJz8WqCkD",
        "colab_type": "code",
        "outputId": "9d9071c2-4b1b-4975-833a-0ac450c0e8eb",
        "colab": {
          "base_uri": "https://localhost:8080/",
          "height": 190
        }
      },
      "source": [
        "!pip install ipython-autotime\n",
        "%load_ext autotime"
      ],
      "execution_count": 3,
      "outputs": [
        {
          "output_type": "stream",
          "text": [
            "Collecting ipython-autotime\n",
            "  Downloading https://files.pythonhosted.org/packages/e6/f9/0626bbdb322e3a078d968e87e3b01341e7890544de891d0cb613641220e6/ipython-autotime-0.1.tar.bz2\n",
            "Building wheels for collected packages: ipython-autotime\n",
            "  Building wheel for ipython-autotime (setup.py) ... \u001b[?25l\u001b[?25hdone\n",
            "  Created wheel for ipython-autotime: filename=ipython_autotime-0.1-cp36-none-any.whl size=1832 sha256=7a2e5da5d2d6512889ec3cf3f4aec91c6093af30d2b743fad4fa46d23e74ab22\n",
            "  Stored in directory: /root/.cache/pip/wheels/d2/df/81/2db1e54bc91002cec40334629bc39cfa86dff540b304ebcd6e\n",
            "Successfully built ipython-autotime\n",
            "Installing collected packages: ipython-autotime\n",
            "Successfully installed ipython-autotime-0.1\n"
          ],
          "name": "stdout"
        }
      ]
    },
    {
      "cell_type": "code",
      "metadata": {
        "id": "XQGrAUZLSEy_",
        "colab_type": "code",
        "outputId": "89b5d3b1-887c-443e-f488-3cf83b76e325",
        "colab": {
          "base_uri": "https://localhost:8080/",
          "height": 139
        }
      },
      "source": [
        "from google.colab import drive\n",
        "drive.mount('/content/drive')\n"
      ],
      "execution_count": 4,
      "outputs": [
        {
          "output_type": "stream",
          "text": [
            "Go to this URL in a browser: https://accounts.google.com/o/oauth2/auth?client_id=947318989803-6bn6qk8qdgf4n4g3pfee6491hc0brc4i.apps.googleusercontent.com&redirect_uri=urn%3aietf%3awg%3aoauth%3a2.0%3aoob&response_type=code&scope=email%20https%3a%2f%2fwww.googleapis.com%2fauth%2fdocs.test%20https%3a%2f%2fwww.googleapis.com%2fauth%2fdrive%20https%3a%2f%2fwww.googleapis.com%2fauth%2fdrive.photos.readonly%20https%3a%2f%2fwww.googleapis.com%2fauth%2fpeopleapi.readonly\n",
            "\n",
            "Enter your authorization code:\n",
            "··········\n",
            "Mounted at /content/drive\n",
            "time: 17.1 s\n"
          ],
          "name": "stdout"
        }
      ]
    },
    {
      "cell_type": "code",
      "metadata": {
        "id": "koMMhkFpIbJ3",
        "colab_type": "code",
        "outputId": "95488c64-f219-47b4-ce8a-efc3c9028694",
        "colab": {
          "base_uri": "https://localhost:8080/",
          "height": 1000
        }
      },
      "source": [
        "!mkdir \"$Jdir\"\n",
        "!ls \"$Jdir\""
      ],
      "execution_count": 5,
      "outputs": [
        {
          "output_type": "stream",
          "text": [
            "mkdir: cannot create directory ‘/content/drive/My Drive/J_resnets_fullsvd’: File exists\n",
            "data\t\t\t\t   Jfull_resnet1202_cifar10__20.csv\n",
            "Jfull_resnet1001_cifar10__0.csv    Jfull_resnet1202_cifar10__21.csv\n",
            "Jfull_resnet1001_cifar10__100.csv  Jfull_resnet1202_cifar10__22.csv\n",
            "Jfull_resnet1001_cifar10__101.csv  Jfull_resnet1202_cifar10__23.csv\n",
            "Jfull_resnet1001_cifar10__102.csv  Jfull_resnet1202_cifar10__24.csv\n",
            "Jfull_resnet1001_cifar10__103.csv  Jfull_resnet1202_cifar10__25.csv\n",
            "Jfull_resnet1001_cifar10__104.csv  Jfull_resnet1202_cifar10__26.csv\n",
            "Jfull_resnet1001_cifar10__105.csv  Jfull_resnet1202_cifar10__27.csv\n",
            "Jfull_resnet1001_cifar10__106.csv  Jfull_resnet1202_cifar10__28.csv\n",
            "Jfull_resnet1001_cifar10__107.csv  Jfull_resnet1202_cifar10__29.csv\n",
            "Jfull_resnet1001_cifar10__108.csv  Jfull_resnet1202_cifar10__2.csv\n",
            "Jfull_resnet1001_cifar10__109.csv  Jfull_resnet1202_cifar10__30.csv\n",
            "Jfull_resnet1001_cifar10__10.csv   Jfull_resnet1202_cifar10__31.csv\n",
            "Jfull_resnet1001_cifar10__110.csv  Jfull_resnet1202_cifar10__32.csv\n",
            "Jfull_resnet1001_cifar10__111.csv  Jfull_resnet1202_cifar10__33.csv\n",
            "Jfull_resnet1001_cifar10__112.csv  Jfull_resnet1202_cifar10__34.csv\n",
            "Jfull_resnet1001_cifar10__113.csv  Jfull_resnet1202_cifar10__35.csv\n",
            "Jfull_resnet1001_cifar10__114.csv  Jfull_resnet1202_cifar10__36.csv\n",
            "Jfull_resnet1001_cifar10__115.csv  Jfull_resnet1202_cifar10__37.csv\n",
            "Jfull_resnet1001_cifar10__116.csv  Jfull_resnet1202_cifar10__38.csv\n",
            "Jfull_resnet1001_cifar10__117.csv  Jfull_resnet1202_cifar10__39.csv\n",
            "Jfull_resnet1001_cifar10__118.csv  Jfull_resnet1202_cifar10__3.csv\n",
            "Jfull_resnet1001_cifar10__119.csv  Jfull_resnet1202_cifar10__40.csv\n",
            "Jfull_resnet1001_cifar10__11.csv   Jfull_resnet1202_cifar10__41.csv\n",
            "Jfull_resnet1001_cifar10__120.csv  Jfull_resnet1202_cifar10__42.csv\n",
            "Jfull_resnet1001_cifar10__121.csv  Jfull_resnet1202_cifar10__43.csv\n",
            "Jfull_resnet1001_cifar10__122.csv  Jfull_resnet1202_cifar10__44.csv\n",
            "Jfull_resnet1001_cifar10__123.csv  Jfull_resnet1202_cifar10__45.csv\n",
            "Jfull_resnet1001_cifar10__124.csv  Jfull_resnet1202_cifar10__46.csv\n",
            "Jfull_resnet1001_cifar10__125.csv  Jfull_resnet1202_cifar10__47.csv\n",
            "Jfull_resnet1001_cifar10__126.csv  Jfull_resnet1202_cifar10__48.csv\n",
            "Jfull_resnet1001_cifar10__127.csv  Jfull_resnet1202_cifar10__49.csv\n",
            "Jfull_resnet1001_cifar10__128.csv  Jfull_resnet1202_cifar10__4.csv\n",
            "Jfull_resnet1001_cifar10__129.csv  Jfull_resnet1202_cifar10__50.csv\n",
            "Jfull_resnet1001_cifar10__12.csv   Jfull_resnet1202_cifar10__51.csv\n",
            "Jfull_resnet1001_cifar10__130.csv  Jfull_resnet1202_cifar10__52.csv\n",
            "Jfull_resnet1001_cifar10__131.csv  Jfull_resnet1202_cifar10__53.csv\n",
            "Jfull_resnet1001_cifar10__132.csv  Jfull_resnet1202_cifar10__54.csv\n",
            "Jfull_resnet1001_cifar10__133.csv  Jfull_resnet1202_cifar10__55.csv\n",
            "Jfull_resnet1001_cifar10__134.csv  Jfull_resnet1202_cifar10__56.csv\n",
            "Jfull_resnet1001_cifar10__135.csv  Jfull_resnet1202_cifar10__57.csv\n",
            "Jfull_resnet1001_cifar10__136.csv  Jfull_resnet1202_cifar10__58.csv\n",
            "Jfull_resnet1001_cifar10__137.csv  Jfull_resnet1202_cifar10__59.csv\n",
            "Jfull_resnet1001_cifar10__138.csv  Jfull_resnet1202_cifar10__5.csv\n",
            "Jfull_resnet1001_cifar10__139.csv  Jfull_resnet1202_cifar10__60.csv\n",
            "Jfull_resnet1001_cifar10__13.csv   Jfull_resnet1202_cifar10__61.csv\n",
            "Jfull_resnet1001_cifar10__140.csv  Jfull_resnet1202_cifar10__62.csv\n",
            "Jfull_resnet1001_cifar10__141.csv  Jfull_resnet1202_cifar10__63.csv\n",
            "Jfull_resnet1001_cifar10__142.csv  Jfull_resnet1202_cifar10__64.csv\n",
            "Jfull_resnet1001_cifar10__143.csv  Jfull_resnet1202_cifar10__65.csv\n",
            "Jfull_resnet1001_cifar10__144.csv  Jfull_resnet1202_cifar10__66.csv\n",
            "Jfull_resnet1001_cifar10__145.csv  Jfull_resnet1202_cifar10__67.csv\n",
            "Jfull_resnet1001_cifar10__146.csv  Jfull_resnet1202_cifar10__68.csv\n",
            "Jfull_resnet1001_cifar10__147.csv  Jfull_resnet1202_cifar10__69.csv\n",
            "Jfull_resnet1001_cifar10__148.csv  Jfull_resnet1202_cifar10__6.csv\n",
            "Jfull_resnet1001_cifar10__149.csv  Jfull_resnet1202_cifar10__70.csv\n",
            "Jfull_resnet1001_cifar10__14.csv   Jfull_resnet1202_cifar10__71.csv\n",
            "Jfull_resnet1001_cifar10__150.csv  Jfull_resnet1202_cifar10__72.csv\n",
            "Jfull_resnet1001_cifar10__151.csv  Jfull_resnet1202_cifar10__73.csv\n",
            "Jfull_resnet1001_cifar10__152.csv  Jfull_resnet1202_cifar10__74.csv\n",
            "Jfull_resnet1001_cifar10__153.csv  Jfull_resnet1202_cifar10__75.csv\n",
            "Jfull_resnet1001_cifar10__154.csv  Jfull_resnet1202_cifar10__76.csv\n",
            "Jfull_resnet1001_cifar10__155.csv  Jfull_resnet1202_cifar10__77.csv\n",
            "Jfull_resnet1001_cifar10__156.csv  Jfull_resnet1202_cifar10__78.csv\n",
            "Jfull_resnet1001_cifar10__157.csv  Jfull_resnet1202_cifar10__79.csv\n",
            "Jfull_resnet1001_cifar10__158.csv  Jfull_resnet1202_cifar10__7.csv\n",
            "Jfull_resnet1001_cifar10__159.csv  Jfull_resnet1202_cifar10__80.csv\n",
            "Jfull_resnet1001_cifar10__15.csv   Jfull_resnet1202_cifar10__81.csv\n",
            "Jfull_resnet1001_cifar10__160.csv  Jfull_resnet1202_cifar10__82.csv\n",
            "Jfull_resnet1001_cifar10__161.csv  Jfull_resnet1202_cifar10__83.csv\n",
            "Jfull_resnet1001_cifar10__162.csv  Jfull_resnet1202_cifar10__84.csv\n",
            "Jfull_resnet1001_cifar10__163.csv  Jfull_resnet1202_cifar10__85.csv\n",
            "Jfull_resnet1001_cifar10__164.csv  Jfull_resnet1202_cifar10__86.csv\n",
            "Jfull_resnet1001_cifar10__165.csv  Jfull_resnet1202_cifar10__87.csv\n",
            "Jfull_resnet1001_cifar10__166.csv  Jfull_resnet1202_cifar10__88.csv\n",
            "Jfull_resnet1001_cifar10__167.csv  Jfull_resnet1202_cifar10__89.csv\n",
            "Jfull_resnet1001_cifar10__168.csv  Jfull_resnet1202_cifar10__8.csv\n",
            "Jfull_resnet1001_cifar10__169.csv  Jfull_resnet1202_cifar10__90.csv\n",
            "Jfull_resnet1001_cifar10__16.csv   Jfull_resnet1202_cifar10__91.csv\n",
            "Jfull_resnet1001_cifar10__170.csv  Jfull_resnet1202_cifar10__92.csv\n",
            "Jfull_resnet1001_cifar10__171.csv  Jfull_resnet1202_cifar10__93.csv\n",
            "Jfull_resnet1001_cifar10__172.csv  Jfull_resnet1202_cifar10__94.csv\n",
            "Jfull_resnet1001_cifar10__173.csv  Jfull_resnet1202_cifar10__95.csv\n",
            "Jfull_resnet1001_cifar10__174.csv  Jfull_resnet1202_cifar10__96.csv\n",
            "Jfull_resnet1001_cifar10__17.csv   Jfull_resnet1202_cifar10__97.csv\n",
            "Jfull_resnet1001_cifar10__18.csv   Jfull_resnet1202_cifar10__98.csv\n",
            "Jfull_resnet1001_cifar10__19.csv   Jfull_resnet1202_cifar10__99.csv\n",
            "Jfull_resnet1001_cifar10__1.csv    Jfull_resnet1202_cifar10__9.csv\n",
            "Jfull_resnet1001_cifar10__20.csv   Jfull_resnet542bn_cifar10__0.csv\n",
            "Jfull_resnet1001_cifar10__21.csv   Jfull_resnet542bn_cifar10__10.csv\n",
            "Jfull_resnet1001_cifar10__22.csv   Jfull_resnet542bn_cifar10__11.csv\n",
            "Jfull_resnet1001_cifar10__23.csv   Jfull_resnet542bn_cifar10__12.csv\n",
            "Jfull_resnet1001_cifar10__24.csv   Jfull_resnet542bn_cifar10__13.csv\n",
            "Jfull_resnet1001_cifar10__25.csv   Jfull_resnet542bn_cifar10__14.csv\n",
            "Jfull_resnet1001_cifar10__26.csv   Jfull_resnet542bn_cifar10__15.csv\n",
            "Jfull_resnet1001_cifar10__27.csv   Jfull_resnet542bn_cifar10__16.csv\n",
            "Jfull_resnet1001_cifar10__28.csv   Jfull_resnet542bn_cifar10__17.csv\n",
            "Jfull_resnet1001_cifar10__29.csv   Jfull_resnet542bn_cifar10__18.csv\n",
            "Jfull_resnet1001_cifar10__2.csv    Jfull_resnet542bn_cifar10__19.csv\n",
            "Jfull_resnet1001_cifar10__30.csv   Jfull_resnet542bn_cifar10__1.csv\n",
            "Jfull_resnet1001_cifar10__31.csv   Jfull_resnet542bn_cifar10__20.csv\n",
            "Jfull_resnet1001_cifar10__32.csv   Jfull_resnet542bn_cifar10__21.csv\n",
            "Jfull_resnet1001_cifar10__33.csv   Jfull_resnet542bn_cifar10__22.csv\n",
            "Jfull_resnet1001_cifar10__34.csv   Jfull_resnet542bn_cifar10__23.csv\n",
            "Jfull_resnet1001_cifar10__35.csv   Jfull_resnet542bn_cifar10__24.csv\n",
            "Jfull_resnet1001_cifar10__36.csv   Jfull_resnet542bn_cifar10__25.csv\n",
            "Jfull_resnet1001_cifar10__37.csv   Jfull_resnet542bn_cifar10__26.csv\n",
            "Jfull_resnet1001_cifar10__38.csv   Jfull_resnet542bn_cifar10__27.csv\n",
            "Jfull_resnet1001_cifar10__39.csv   Jfull_resnet542bn_cifar10__28.csv\n",
            "Jfull_resnet1001_cifar10__3.csv    Jfull_resnet542bn_cifar10__29.csv\n",
            "Jfull_resnet1001_cifar10__40.csv   Jfull_resnet542bn_cifar10__2.csv\n",
            "Jfull_resnet1001_cifar10__41.csv   Jfull_resnet542bn_cifar10__30.csv\n",
            "Jfull_resnet1001_cifar10__42.csv   Jfull_resnet542bn_cifar10__31.csv\n",
            "Jfull_resnet1001_cifar10__43.csv   Jfull_resnet542bn_cifar10__32.csv\n",
            "Jfull_resnet1001_cifar10__44.csv   Jfull_resnet542bn_cifar10__33.csv\n",
            "Jfull_resnet1001_cifar10__45.csv   Jfull_resnet542bn_cifar10__34.csv\n",
            "Jfull_resnet1001_cifar10__46.csv   Jfull_resnet542bn_cifar10__35.csv\n",
            "Jfull_resnet1001_cifar10__47.csv   Jfull_resnet542bn_cifar10__36.csv\n",
            "Jfull_resnet1001_cifar10__48.csv   Jfull_resnet542bn_cifar10__37.csv\n",
            "Jfull_resnet1001_cifar10__49.csv   Jfull_resnet542bn_cifar10__38.csv\n",
            "Jfull_resnet1001_cifar10__4.csv    Jfull_resnet542bn_cifar10__39.csv\n",
            "Jfull_resnet1001_cifar10__50.csv   Jfull_resnet542bn_cifar10__3.csv\n",
            "Jfull_resnet1001_cifar10__51.csv   Jfull_resnet542bn_cifar10__40.csv\n",
            "Jfull_resnet1001_cifar10__52.csv   Jfull_resnet542bn_cifar10__41.csv\n",
            "Jfull_resnet1001_cifar10__53.csv   Jfull_resnet542bn_cifar10__42.csv\n",
            "Jfull_resnet1001_cifar10__54.csv   Jfull_resnet542bn_cifar10__43.csv\n",
            "Jfull_resnet1001_cifar10__55.csv   Jfull_resnet542bn_cifar10__44.csv\n",
            "Jfull_resnet1001_cifar10__56.csv   Jfull_resnet542bn_cifar10__45.csv\n",
            "Jfull_resnet1001_cifar10__57.csv   Jfull_resnet542bn_cifar10__46.csv\n",
            "Jfull_resnet1001_cifar10__58.csv   Jfull_resnet542bn_cifar10__47.csv\n",
            "Jfull_resnet1001_cifar10__59.csv   Jfull_resnet542bn_cifar10__48.csv\n",
            "Jfull_resnet1001_cifar10__5.csv    Jfull_resnet542bn_cifar10__49.csv\n",
            "Jfull_resnet1001_cifar10__60.csv   Jfull_resnet542bn_cifar10__4.csv\n",
            "Jfull_resnet1001_cifar10__61.csv   Jfull_resnet542bn_cifar10__50.csv\n",
            "Jfull_resnet1001_cifar10__62.csv   Jfull_resnet542bn_cifar10__51.csv\n",
            "Jfull_resnet1001_cifar10__63.csv   Jfull_resnet542bn_cifar10__52.csv\n",
            "Jfull_resnet1001_cifar10__64.csv   Jfull_resnet542bn_cifar10__53.csv\n",
            "Jfull_resnet1001_cifar10__65.csv   Jfull_resnet542bn_cifar10__54.csv\n",
            "Jfull_resnet1001_cifar10__66.csv   Jfull_resnet542bn_cifar10__55.csv\n",
            "Jfull_resnet1001_cifar10__67.csv   Jfull_resnet542bn_cifar10__56.csv\n",
            "Jfull_resnet1001_cifar10__68.csv   Jfull_resnet542bn_cifar10__57.csv\n",
            "Jfull_resnet1001_cifar10__69.csv   Jfull_resnet542bn_cifar10__58.csv\n",
            "Jfull_resnet1001_cifar10__6.csv    Jfull_resnet542bn_cifar10__59.csv\n",
            "Jfull_resnet1001_cifar10__70.csv   Jfull_resnet542bn_cifar10__5.csv\n",
            "Jfull_resnet1001_cifar10__71.csv   Jfull_resnet542bn_cifar10__60.csv\n",
            "Jfull_resnet1001_cifar10__72.csv   Jfull_resnet542bn_cifar10__61.csv\n",
            "Jfull_resnet1001_cifar10__73.csv   Jfull_resnet542bn_cifar10__62.csv\n",
            "Jfull_resnet1001_cifar10__74.csv   Jfull_resnet542bn_cifar10__63.csv\n",
            "Jfull_resnet1001_cifar10__75.csv   Jfull_resnet542bn_cifar10__64.csv\n",
            "Jfull_resnet1001_cifar10__76.csv   Jfull_resnet542bn_cifar10__65.csv\n",
            "Jfull_resnet1001_cifar10__77.csv   Jfull_resnet542bn_cifar10__66.csv\n",
            "Jfull_resnet1001_cifar10__78.csv   Jfull_resnet542bn_cifar10__67.csv\n",
            "Jfull_resnet1001_cifar10__79.csv   Jfull_resnet542bn_cifar10__68.csv\n",
            "Jfull_resnet1001_cifar10__7.csv    Jfull_resnet542bn_cifar10__69.csv\n",
            "Jfull_resnet1001_cifar10__80.csv   Jfull_resnet542bn_cifar10__6.csv\n",
            "Jfull_resnet1001_cifar10__81.csv   Jfull_resnet542bn_cifar10__70.csv\n",
            "Jfull_resnet1001_cifar10__82.csv   Jfull_resnet542bn_cifar10__71.csv\n",
            "Jfull_resnet1001_cifar10__83.csv   Jfull_resnet542bn_cifar10__72.csv\n",
            "Jfull_resnet1001_cifar10__84.csv   Jfull_resnet542bn_cifar10__73.csv\n",
            "Jfull_resnet1001_cifar10__85.csv   Jfull_resnet542bn_cifar10__74.csv\n",
            "Jfull_resnet1001_cifar10__86.csv   Jfull_resnet542bn_cifar10__75.csv\n",
            "Jfull_resnet1001_cifar10__87.csv   Jfull_resnet542bn_cifar10__76.csv\n",
            "Jfull_resnet1001_cifar10__88.csv   Jfull_resnet542bn_cifar10__77.csv\n",
            "Jfull_resnet1001_cifar10__89.csv   Jfull_resnet542bn_cifar10__78.csv\n",
            "Jfull_resnet1001_cifar10__8.csv    Jfull_resnet542bn_cifar10__79.csv\n",
            "Jfull_resnet1001_cifar10__90.csv   Jfull_resnet542bn_cifar10__7.csv\n",
            "Jfull_resnet1001_cifar10__91.csv   Jfull_resnet542bn_cifar10__80.csv\n",
            "Jfull_resnet1001_cifar10__92.csv   Jfull_resnet542bn_cifar10__81.csv\n",
            "Jfull_resnet1001_cifar10__93.csv   Jfull_resnet542bn_cifar10__82.csv\n",
            "Jfull_resnet1001_cifar10__94.csv   Jfull_resnet542bn_cifar10__83.csv\n",
            "Jfull_resnet1001_cifar10__95.csv   Jfull_resnet542bn_cifar10__84.csv\n",
            "Jfull_resnet1001_cifar10__96.csv   Jfull_resnet542bn_cifar10__85.csv\n",
            "Jfull_resnet1001_cifar10__97.csv   Jfull_resnet542bn_cifar10__86.csv\n",
            "Jfull_resnet1001_cifar10__98.csv   Jfull_resnet542bn_cifar10__87.csv\n",
            "Jfull_resnet1001_cifar10__99.csv   Jfull_resnet542bn_cifar10__88.csv\n",
            "Jfull_resnet1001_cifar10__9.csv    Jfull_resnet542bn_cifar10__89.csv\n",
            "Jfull_resnet1202_cifar10__0.csv    Jfull_resnet542bn_cifar10__8.csv\n",
            "Jfull_resnet1202_cifar10__10.csv   Jfull_resnet542bn_cifar10__90.csv\n",
            "Jfull_resnet1202_cifar10__11.csv   Jfull_resnet542bn_cifar10__91.csv\n",
            "Jfull_resnet1202_cifar10__12.csv   Jfull_resnet542bn_cifar10__92.csv\n",
            "Jfull_resnet1202_cifar10__13.csv   Jfull_resnet542bn_cifar10__93.csv\n",
            "Jfull_resnet1202_cifar10__14.csv   Jfull_resnet542bn_cifar10__94.csv\n",
            "Jfull_resnet1202_cifar10__15.csv   Jfull_resnet542bn_cifar10__95.csv\n",
            "Jfull_resnet1202_cifar10__16.csv   Jfull_resnet542bn_cifar10__96.csv\n",
            "Jfull_resnet1202_cifar10__17.csv   Jfull_resnet542bn_cifar10__97.csv\n",
            "Jfull_resnet1202_cifar10__18.csv   Jfull_resnet542bn_cifar10__98.csv\n",
            "Jfull_resnet1202_cifar10__19.csv   Jfull_resnet542bn_cifar10__99.csv\n",
            "Jfull_resnet1202_cifar10__1.csv    Jfull_resnet542bn_cifar10__9.csv\n",
            "time: 2.61 s\n"
          ],
          "name": "stdout"
        }
      ]
    },
    {
      "cell_type": "code",
      "metadata": {
        "id": "L9UHqdnHqCcv",
        "colab_type": "code",
        "outputId": "73753140-5d4b-4a6b-80c5-199bf7baa3c6",
        "colab": {
          "base_uri": "https://localhost:8080/",
          "height": 700
        }
      },
      "source": [
        "!pip install pytorchcv\n",
        "!pip install powerlaw\n",
        "!pip install GPUtil\n",
        "import GPUtil"
      ],
      "execution_count": 6,
      "outputs": [
        {
          "output_type": "stream",
          "text": [
            "Collecting pytorchcv\n",
            "\u001b[?25l  Downloading https://files.pythonhosted.org/packages/93/be/0bcd80dfc0d64e75ceb67836385402fece3c3b964c349172a21358813b25/pytorchcv-0.0.58-py2.py3-none-any.whl (435kB)\n",
            "\u001b[K     |████████████████████████████████| 440kB 4.6MB/s \n",
            "\u001b[?25hRequirement already satisfied: numpy in /usr/local/lib/python3.6/dist-packages (from pytorchcv) (1.18.5)\n",
            "Requirement already satisfied: requests in /usr/local/lib/python3.6/dist-packages (from pytorchcv) (2.23.0)\n",
            "Requirement already satisfied: urllib3!=1.25.0,!=1.25.1,<1.26,>=1.21.1 in /usr/local/lib/python3.6/dist-packages (from requests->pytorchcv) (1.24.3)\n",
            "Requirement already satisfied: idna<3,>=2.5 in /usr/local/lib/python3.6/dist-packages (from requests->pytorchcv) (2.9)\n",
            "Requirement already satisfied: chardet<4,>=3.0.2 in /usr/local/lib/python3.6/dist-packages (from requests->pytorchcv) (3.0.4)\n",
            "Requirement already satisfied: certifi>=2017.4.17 in /usr/local/lib/python3.6/dist-packages (from requests->pytorchcv) (2020.4.5.1)\n",
            "Installing collected packages: pytorchcv\n",
            "Successfully installed pytorchcv-0.0.58\n",
            "Collecting powerlaw\n",
            "  Downloading https://files.pythonhosted.org/packages/d5/4e/3ceab890fafff8e78a5fd7f5340c232c38b21d181fcd32d7a31079db3646/powerlaw-1.4.6.tar.gz\n",
            "Requirement already satisfied: scipy in /usr/local/lib/python3.6/dist-packages (from powerlaw) (1.4.1)\n",
            "Requirement already satisfied: numpy in /usr/local/lib/python3.6/dist-packages (from powerlaw) (1.18.5)\n",
            "Requirement already satisfied: matplotlib in /usr/local/lib/python3.6/dist-packages (from powerlaw) (3.2.1)\n",
            "Requirement already satisfied: mpmath in /usr/local/lib/python3.6/dist-packages (from powerlaw) (1.1.0)\n",
            "Requirement already satisfied: pyparsing!=2.0.4,!=2.1.2,!=2.1.6,>=2.0.1 in /usr/local/lib/python3.6/dist-packages (from matplotlib->powerlaw) (2.4.7)\n",
            "Requirement already satisfied: cycler>=0.10 in /usr/local/lib/python3.6/dist-packages (from matplotlib->powerlaw) (0.10.0)\n",
            "Requirement already satisfied: kiwisolver>=1.0.1 in /usr/local/lib/python3.6/dist-packages (from matplotlib->powerlaw) (1.2.0)\n",
            "Requirement already satisfied: python-dateutil>=2.1 in /usr/local/lib/python3.6/dist-packages (from matplotlib->powerlaw) (2.8.1)\n",
            "Requirement already satisfied: six in /usr/local/lib/python3.6/dist-packages (from cycler>=0.10->matplotlib->powerlaw) (1.12.0)\n",
            "Building wheels for collected packages: powerlaw\n",
            "  Building wheel for powerlaw (setup.py) ... \u001b[?25l\u001b[?25hdone\n",
            "  Created wheel for powerlaw: filename=powerlaw-1.4.6-cp36-none-any.whl size=24787 sha256=4a16a09fb86f59c8f0807e818576cc2b2ced5d0e4e08ca0f3c0d76c65bf92e53\n",
            "  Stored in directory: /root/.cache/pip/wheels/e0/27/02/08d0e2865072bfd8d7c655e290521e3feca3fc22f1ac460601\n",
            "Successfully built powerlaw\n",
            "Installing collected packages: powerlaw\n",
            "Successfully installed powerlaw-1.4.6\n",
            "Collecting GPUtil\n",
            "  Downloading https://files.pythonhosted.org/packages/ed/0e/5c61eedde9f6c87713e89d794f01e378cfd9565847d4576fa627d758c554/GPUtil-1.4.0.tar.gz\n",
            "Building wheels for collected packages: GPUtil\n",
            "  Building wheel for GPUtil (setup.py) ... \u001b[?25l\u001b[?25hdone\n",
            "  Created wheel for GPUtil: filename=GPUtil-1.4.0-cp36-none-any.whl size=7413 sha256=0d1aaa41fcad8e33ca87bfd47f8165fdf1547509bc9119d190d4a0d4cf61f617\n",
            "  Stored in directory: /root/.cache/pip/wheels/3d/77/07/80562de4bb0786e5ea186911a2c831fdd0018bda69beab71fd\n",
            "Successfully built GPUtil\n",
            "Installing collected packages: GPUtil\n",
            "Successfully installed GPUtil-1.4.0\n",
            "time: 12.2 s\n"
          ],
          "name": "stdout"
        }
      ]
    },
    {
      "cell_type": "code",
      "metadata": {
        "id": "0rBl2Oq6DQu9",
        "colab_type": "code",
        "outputId": "d15164b5-6817-400a-8a8b-3f564074898e",
        "colab": {
          "base_uri": "https://localhost:8080/",
          "height": 51
        }
      },
      "source": [
        "!import os\n",
        "import time\n",
        "\n",
        "import numpy as np\n",
        "import pandas as pd\n",
        "\n",
        "import torch\n",
        "import torch.nn as nn\n",
        "import torch.nn.functional as F\n",
        "from torch.utils.data import DataLoader\n",
        "from torch.utils.data.dataset import Subset\n",
        "\n",
        "from torchvision import datasets\n",
        "from torchvision import transforms\n",
        "\n",
        "import matplotlib.pyplot as plt\n",
        "from PIL import Image\n",
        "\n",
        "import math\n",
        "import copy\n",
        "\n",
        "import gc\n"
      ],
      "execution_count": 7,
      "outputs": [
        {
          "output_type": "stream",
          "text": [
            "/bin/bash: import: command not found\n",
            "time: 4.66 s\n"
          ],
          "name": "stdout"
        }
      ]
    },
    {
      "cell_type": "markdown",
      "metadata": {
        "id": "eRm23SSZoRyb",
        "colab_type": "text"
      },
      "source": [
        "### Run InstallPhysTheory notebook "
      ]
    },
    {
      "cell_type": "code",
      "metadata": {
        "id": "XcXIRwl3NGhs",
        "colab_type": "code",
        "outputId": "bace88d5-04c7-4d9e-ef61-8062174fc380",
        "colab": {
          "base_uri": "https://localhost:8080/",
          "height": 34
        }
      },
      "source": [
        "import sys\n",
        "sys.path.append(\"/content/drive/My Drive/Jacobian\")\n",
        "import jacobian as jac\n",
        "import utils"
      ],
      "execution_count": 8,
      "outputs": [
        {
          "output_type": "stream",
          "text": [
            "time: 847 ms\n"
          ],
          "name": "stdout"
        }
      ]
    },
    {
      "cell_type": "code",
      "metadata": {
        "id": "iOROJGbR14rP",
        "colab_type": "code",
        "colab": {}
      },
      "source": [
        ""
      ],
      "execution_count": 0,
      "outputs": []
    },
    {
      "cell_type": "code",
      "metadata": {
        "id": "QjV56-LApamT",
        "colab_type": "code",
        "outputId": "6f73ce69-6385-4a6f-fa93-54a097c664a1",
        "colab": {
          "base_uri": "https://localhost:8080/",
          "height": 34
        }
      },
      "source": [
        "def jacobian_batched_full(modelname, model, data_loader, batch_size, start_batch = 0, num_classes=10, device='cuda:0', data_dim=3*32*32, formJJ=False, save=True): \n",
        "  '''Compute a full of J^{T}J Jacobian in batch mode.  '''\n",
        "\n",
        "  model.eval() \n",
        "  model = model.to(device)\n",
        "\n",
        "  left_data_loader = data_loader \n",
        "  right_data_loader = copy.deepcopy(data_loader)\n",
        "\n",
        "  JJMat = None \n",
        "  for left_batch, data in enumerate(left_data_loader): \n",
        "    if left_batch < start_batch:\n",
        "      continue\n",
        "    print(left_batch) \n",
        "\n",
        "    inputs, _ = data \n",
        "    inputs = inputs.to(device)\n",
        "    inputs.requires_grad=True\n",
        "    outputs = model(inputs)\n",
        "    J = jac.batch_diagJ(inputs, outputs)\n",
        "    J = J.reshape(batch_size,num_classes*data_dim)\n",
        "\n",
        "    X = J.detach().cpu().numpy()\n",
        "\n",
        "    del data, inputs, outputs, J\n",
        "    gc.collect()\n",
        "    torch.cuda.empty_cache()\n",
        "    GPUtil.showUtilization()\n",
        "\n",
        "    JJBlock = None\n",
        "    for right_batch, data in enumerate(right_data_loader):\n",
        "      print(left_batch, right_batch)\n",
        "      inputs, _ = data \n",
        "      inputs = inputs.to(device)\n",
        "      inputs.requires_grad=True\n",
        "      outputs = model(inputs)\n",
        "    \n",
        "      Jt = jac.batch_diagJ(inputs, outputs)\n",
        "      Jt = Jt.reshape(batch_size,num_classes*data_dim)\n",
        "\n",
        "      Xt = Jt.detach().cpu().numpy().transpose()\n",
        "\n",
        "      del data, inputs, outputs, Jt\n",
        "      gc.collect()\n",
        "      torch.cuda.empty_cache()\n",
        "\n",
        "      block = np.dot(X,Xt)\n",
        "      JJBlock = np.hstack([JJBlock, block]) if JJBlock is not None else block\n",
        "\n",
        "    # end of right_batch loop\n",
        "    \n",
        "    if save:\n",
        "      filename = \"{}/Jfull_{}__{}.csv\".format(Jdir, modelname, left_batch)\n",
        "      np.savetxt(filename, JJBlock, delimiter='\\t')\n",
        "      print(\"Saved file \",filename)\n",
        "\n",
        "    if formJJ:\n",
        "      JJMat = np.vstack([JJMat, JJBlock]) if JJMat is not None else JJBlock\n",
        "\n",
        "      print(\"JJMat shape \", left_batch, JJMat.shape, filename) \n",
        "\n",
        "  # end of left_batch loop\n",
        "\n",
        "  return JJMat\n"
      ],
      "execution_count": 9,
      "outputs": [
        {
          "output_type": "stream",
          "text": [
            "time: 54.1 ms\n"
          ],
          "name": "stdout"
        }
      ]
    },
    {
      "cell_type": "code",
      "metadata": {
        "id": "UMx_m3Gi_X__",
        "colab_type": "code",
        "outputId": "067b4a70-9781-474d-c35b-86d10fcb7879",
        "colab": {
          "base_uri": "https://localhost:8080/",
          "height": 34
        }
      },
      "source": [
        "def jacobian_full(model, data_loader, batch_size, num_classes=10, device='cuda:0'): \n",
        "  '''compute a full of J^{T}J Jacobian directly.  '''\n",
        "\n",
        "  model.eval()\n",
        "  model = model.to(device)\n",
        "\n",
        "  J_right = jac.construct_diagJ(model, test_loader, batch_size=batch_size, device=device) \n",
        "  J_left = J_right.transpose(1,0)\n",
        "  JJ = torch.mm(J_right, J_left)\n",
        "  JJMat = JJ.detach().cpu().numpy()\n",
        "\n",
        "  del J_right, J_left, JJ\n",
        "  gc.collect()\n",
        "  torch.cuda.empty_cache()\n",
        "\n",
        "  return JJMat"
      ],
      "execution_count": 10,
      "outputs": [
        {
          "output_type": "stream",
          "text": [
            "time: 6.8 ms\n"
          ],
          "name": "stdout"
        }
      ]
    },
    {
      "cell_type": "markdown",
      "metadata": {
        "id": "AlaD-n5OsIcO",
        "colab_type": "text"
      },
      "source": [
        "### ResNet "
      ]
    },
    {
      "cell_type": "code",
      "metadata": {
        "id": "nT8SeVRcyv2R",
        "colab_type": "code",
        "outputId": "2efa34ec-8e31-482c-ea84-5b34cf3c56e4",
        "colab": {
          "base_uri": "https://localhost:8080/",
          "height": 34
        }
      },
      "source": [
        "import pytorchcv\n",
        "from pytorchcv.model_provider import get_model as ptcv_get_model"
      ],
      "execution_count": 11,
      "outputs": [
        {
          "output_type": "stream",
          "text": [
            "time: 96.5 ms\n"
          ],
          "name": "stdout"
        }
      ]
    },
    {
      "cell_type": "markdown",
      "metadata": {
        "id": "b6pvm9Wh1MJz",
        "colab_type": "text"
      },
      "source": [
        "### Compute JJ, in batches or all at once\n"
      ]
    },
    {
      "cell_type": "code",
      "metadata": {
        "id": "XPJqJb2yZINy",
        "colab_type": "code",
        "colab": {
          "base_uri": "https://localhost:8080/",
          "height": 34
        },
        "outputId": "4db7de0b-1c44-4169-9425-eebcdedbef54"
      },
      "source": [
        "def get_datasets(thismodel, batch_size):\n",
        "  print(\"getting dataset for \", thismodel)\n",
        "  if thismodel.endswith('cifar100'):\n",
        "    print(\"loading cifar100\")\n",
        "    train_dataset = datasets.CIFAR100(\n",
        "      root='data', \n",
        "      train=True, \n",
        "      transform=transforms.ToTensor(),\n",
        "      download=True)\n",
        "    test_dataset = datasets.CIFAR100(\n",
        "      root='data', \n",
        "      train=False, \n",
        "      transform=transforms.ToTensor(),\n",
        "      download=True) \n",
        " \n",
        "    train_loader = DataLoader(\n",
        "      dataset=train_dataset, \n",
        "      batch_size=batch_size,\n",
        "      num_workers=4,\n",
        "      shuffle=False)\n",
        "    test_loader = DataLoader(\n",
        "      dataset=test_dataset, \n",
        "      batch_size=batch_size,\n",
        "      num_workers=4,\n",
        "      shuffle=False)\n",
        "\n",
        "  else:\n",
        "    print(\"loading cifar10\")\n",
        "    train_dataset, test_dataset, train_loader, test_loader = utils.get_data(batch_size=batch_size)\n",
        "\n",
        "      \n",
        "  return train_dataset, test_dataset, train_loader, test_loader"
      ],
      "execution_count": 12,
      "outputs": [
        {
          "output_type": "stream",
          "text": [
            "time: 9.69 ms\n"
          ],
          "name": "stdout"
        }
      ]
    },
    {
      "cell_type": "code",
      "metadata": {
        "id": "OOrW3nihw7aP",
        "colab_type": "code",
        "outputId": "1fd7fa17-aad5-4829-84e4-54688304987d",
        "colab": {
          "base_uri": "https://localhost:8080/",
          "height": 270,
          "referenced_widgets": [
            "8feec3f092174f94b55a3d83a02ad66a",
            "beb411f5cac64f28b5704791616bdf58",
            "a2b26495dbb34e53a9bbc73b79af40c1",
            "69098aad323b486583c4a576f41605a3",
            "461a75e3471142539537efa047fbe472",
            "7210ef20e29f453489d6079ef026684a",
            "011a1f001a074a21ad9cda1e74fd3606",
            "f76102b64e954511831815989ead9bd4"
          ]
        }
      },
      "source": [
        "print(thismodel)\n",
        "train_dataset, test_dataset, train_loader, test_loader = get_datasets(thismodel, batch_size)#utils.get_data(batch_size=batch_size)\n",
        "#train_dataset, test_dataset, train_loader, test_loader = utils.get_data(batch_size=batch_size)\n",
        "\n",
        "print(test_dataset)\n"
      ],
      "execution_count": 13,
      "outputs": [
        {
          "output_type": "stream",
          "text": [
            "resnet20_cifar100\n",
            "getting dataset for  resnet20_cifar100\n",
            "loading cifar100\n",
            "Downloading https://www.cs.toronto.edu/~kriz/cifar-100-python.tar.gz to data/cifar-100-python.tar.gz\n"
          ],
          "name": "stdout"
        },
        {
          "output_type": "display_data",
          "data": {
            "application/vnd.jupyter.widget-view+json": {
              "model_id": "8feec3f092174f94b55a3d83a02ad66a",
              "version_minor": 0,
              "version_major": 2
            },
            "text/plain": [
              "HBox(children=(FloatProgress(value=1.0, bar_style='info', max=1.0), HTML(value='')))"
            ]
          },
          "metadata": {
            "tags": []
          }
        },
        {
          "output_type": "stream",
          "text": [
            "Extracting data/cifar-100-python.tar.gz to data\n",
            "Files already downloaded and verified\n",
            "Dataset CIFAR100\n",
            "    Number of datapoints: 10000\n",
            "    Root location: data\n",
            "    Split: Test\n",
            "    StandardTransform\n",
            "Transform: ToTensor()\n",
            "time: 7.59 s\n"
          ],
          "name": "stdout"
        }
      ]
    },
    {
      "cell_type": "code",
      "metadata": {
        "id": "nZsgnzt1co7q",
        "colab_type": "code",
        "colab": {
          "base_uri": "https://localhost:8080/",
          "height": 412
        },
        "outputId": "925cd318-2b45-4411-fb4e-baf2fc9a963e"
      },
      "source": [
        "model = ptcv_get_model(thismodel, pretrained=True)  \n",
        "if batched: \n",
        "  jacobian_batched_full(thismodel, model, test_loader, batch_size=batch_size, start_batch=start_batch)\n",
        "else:\n",
        "  JJMat = jacobian_full(model, test_loader, batch_size=batch_size)"
      ],
      "execution_count": 14,
      "outputs": [
        {
          "output_type": "stream",
          "text": [
            "\n",
            "Downloading /root/.torch/models/resnet20_cifar100-2964-a5322afe.pth.zip from https://github.com/osmr/imgclsmob/releases/download/v0.0.180/resnet20_cifar100-2964-a5322afe.pth.zip...\n"
          ],
          "name": "stdout"
        },
        {
          "output_type": "error",
          "ename": "RuntimeError",
          "evalue": "ignored",
          "traceback": [
            "\u001b[0;31m---------------------------------------------------------------------------\u001b[0m",
            "\u001b[0;31mRuntimeError\u001b[0m                              Traceback (most recent call last)",
            "\u001b[0;32m<ipython-input-14-f0a561aaecbc>\u001b[0m in \u001b[0;36m<module>\u001b[0;34m()\u001b[0m\n\u001b[1;32m      3\u001b[0m   \u001b[0mjacobian_batched_full\u001b[0m\u001b[0;34m(\u001b[0m\u001b[0mthismodel\u001b[0m\u001b[0;34m,\u001b[0m \u001b[0mmodel\u001b[0m\u001b[0;34m,\u001b[0m \u001b[0mtest_loader\u001b[0m\u001b[0;34m,\u001b[0m \u001b[0mbatch_size\u001b[0m\u001b[0;34m=\u001b[0m\u001b[0mbatch_size\u001b[0m\u001b[0;34m,\u001b[0m \u001b[0mstart_batch\u001b[0m\u001b[0;34m=\u001b[0m\u001b[0mstart_batch\u001b[0m\u001b[0;34m)\u001b[0m\u001b[0;34m\u001b[0m\u001b[0;34m\u001b[0m\u001b[0m\n\u001b[1;32m      4\u001b[0m \u001b[0;32melse\u001b[0m\u001b[0;34m:\u001b[0m\u001b[0;34m\u001b[0m\u001b[0;34m\u001b[0m\u001b[0m\n\u001b[0;32m----> 5\u001b[0;31m   \u001b[0mJJMat\u001b[0m \u001b[0;34m=\u001b[0m \u001b[0mjacobian_full\u001b[0m\u001b[0;34m(\u001b[0m\u001b[0mmodel\u001b[0m\u001b[0;34m,\u001b[0m \u001b[0mtest_loader\u001b[0m\u001b[0;34m,\u001b[0m \u001b[0mbatch_size\u001b[0m\u001b[0;34m=\u001b[0m\u001b[0mbatch_size\u001b[0m\u001b[0;34m)\u001b[0m\u001b[0;34m\u001b[0m\u001b[0;34m\u001b[0m\u001b[0m\n\u001b[0m",
            "\u001b[0;32m<ipython-input-10-714ef83fa88a>\u001b[0m in \u001b[0;36mjacobian_full\u001b[0;34m(model, data_loader, batch_size, num_classes, device)\u001b[0m\n\u001b[1;32m      5\u001b[0m   \u001b[0mmodel\u001b[0m \u001b[0;34m=\u001b[0m \u001b[0mmodel\u001b[0m\u001b[0;34m.\u001b[0m\u001b[0mto\u001b[0m\u001b[0;34m(\u001b[0m\u001b[0mdevice\u001b[0m\u001b[0;34m)\u001b[0m\u001b[0;34m\u001b[0m\u001b[0;34m\u001b[0m\u001b[0m\n\u001b[1;32m      6\u001b[0m \u001b[0;34m\u001b[0m\u001b[0m\n\u001b[0;32m----> 7\u001b[0;31m   \u001b[0mJ_right\u001b[0m \u001b[0;34m=\u001b[0m \u001b[0mjac\u001b[0m\u001b[0;34m.\u001b[0m\u001b[0mconstruct_diagJ\u001b[0m\u001b[0;34m(\u001b[0m\u001b[0mmodel\u001b[0m\u001b[0;34m,\u001b[0m \u001b[0mtest_loader\u001b[0m\u001b[0;34m,\u001b[0m \u001b[0mbatch_size\u001b[0m\u001b[0;34m=\u001b[0m\u001b[0mbatch_size\u001b[0m\u001b[0;34m,\u001b[0m \u001b[0mdevice\u001b[0m\u001b[0;34m=\u001b[0m\u001b[0mdevice\u001b[0m\u001b[0;34m)\u001b[0m\u001b[0;34m\u001b[0m\u001b[0;34m\u001b[0m\u001b[0m\n\u001b[0m\u001b[1;32m      8\u001b[0m   \u001b[0mJ_left\u001b[0m \u001b[0;34m=\u001b[0m \u001b[0mJ_right\u001b[0m\u001b[0;34m.\u001b[0m\u001b[0mtranspose\u001b[0m\u001b[0;34m(\u001b[0m\u001b[0;36m1\u001b[0m\u001b[0;34m,\u001b[0m\u001b[0;36m0\u001b[0m\u001b[0;34m)\u001b[0m\u001b[0;34m\u001b[0m\u001b[0;34m\u001b[0m\u001b[0m\n\u001b[1;32m      9\u001b[0m   \u001b[0mJJ\u001b[0m \u001b[0;34m=\u001b[0m \u001b[0mtorch\u001b[0m\u001b[0;34m.\u001b[0m\u001b[0mmm\u001b[0m\u001b[0;34m(\u001b[0m\u001b[0mJ_right\u001b[0m\u001b[0;34m,\u001b[0m \u001b[0mJ_left\u001b[0m\u001b[0;34m)\u001b[0m\u001b[0;34m\u001b[0m\u001b[0;34m\u001b[0m\u001b[0m\n",
            "\u001b[0;32m/content/drive/My Drive/Jacobian/jacobian.py\u001b[0m in \u001b[0;36mconstruct_diagJ\u001b[0;34m(model, data_loader, batch_size, device, num_classes, data_dim)\u001b[0m\n\u001b[1;32m     72\u001b[0m                 \u001b[0mJs\u001b[0m\u001b[0;34m.\u001b[0m\u001b[0mappend\u001b[0m\u001b[0;34m(\u001b[0m\u001b[0mJ\u001b[0m\u001b[0;34m)\u001b[0m\u001b[0;34m\u001b[0m\u001b[0;34m\u001b[0m\u001b[0m\n\u001b[1;32m     73\u001b[0m \u001b[0;34m\u001b[0m\u001b[0m\n\u001b[0;32m---> 74\u001b[0;31m         \u001b[0mfull_J\u001b[0m \u001b[0;34m=\u001b[0m \u001b[0mtorch\u001b[0m\u001b[0;34m.\u001b[0m\u001b[0mstack\u001b[0m\u001b[0;34m(\u001b[0m\u001b[0mJs\u001b[0m\u001b[0;34m,\u001b[0m \u001b[0mdim\u001b[0m\u001b[0;34m=\u001b[0m\u001b[0;36m0\u001b[0m\u001b[0;34m)\u001b[0m\u001b[0;34m\u001b[0m\u001b[0;34m\u001b[0m\u001b[0m\n\u001b[0m\u001b[1;32m     75\u001b[0m         \u001b[0mfull_J\u001b[0m \u001b[0;34m=\u001b[0m \u001b[0mfull_J\u001b[0m\u001b[0;34m.\u001b[0m\u001b[0mreshape\u001b[0m\u001b[0;34m(\u001b[0m\u001b[0mlen\u001b[0m\u001b[0;34m(\u001b[0m\u001b[0mdata_loader\u001b[0m\u001b[0;34m)\u001b[0m\u001b[0;34m*\u001b[0m\u001b[0mbatch_size\u001b[0m\u001b[0;34m,\u001b[0m \u001b[0mnum_classes\u001b[0m\u001b[0;34m*\u001b[0m\u001b[0mdata_dim\u001b[0m\u001b[0;34m)\u001b[0m\u001b[0;34m\u001b[0m\u001b[0;34m\u001b[0m\u001b[0m\n\u001b[1;32m     76\u001b[0m \u001b[0;34m\u001b[0m\u001b[0m\n",
            "\u001b[0;31mRuntimeError\u001b[0m: CUDA out of memory. Tried to allocate 11.45 GiB (GPU 0; 15.90 GiB total capacity; 11.67 GiB already allocated; 3.36 GiB free; 11.84 GiB reserved in total by PyTorch)"
          ]
        },
        {
          "output_type": "stream",
          "text": [
            "time: 2min 3s\n"
          ],
          "name": "stdout"
        }
      ]
    },
    {
      "cell_type": "code",
      "metadata": {
        "id": "hHIBjIe-oeso",
        "colab_type": "code",
        "colab": {}
      },
      "source": [
        "if batched:\n",
        "  print(\"Reading batched JJBlocks for \", thismodel)\n",
        "  JJMat = None\n",
        "  import os, glob\n",
        "  os.chdir(Jdir)\n",
        "  for filename in glob.glob(\"Jfull_{}*\".format(thismodel)):\n",
        "    print(filename)\n",
        "    JJBlock = np.loadtxt(filename)\n",
        "    JJMat = np.vstack([JJMat, JJBlock]) if JJMat is not None else JJBlock\n"
      ],
      "execution_count": 0,
      "outputs": []
    },
    {
      "cell_type": "code",
      "metadata": {
        "id": "NSjkSs0fyzou",
        "colab_type": "code",
        "colab": {}
      },
      "source": [
        ""
      ],
      "execution_count": 0,
      "outputs": []
    },
    {
      "cell_type": "code",
      "metadata": {
        "id": "YsxEPxFXk_EK",
        "colab_type": "code",
        "colab": {}
      },
      "source": [
        "import powerlaw\n",
        "norm = 10*3*32*32\n",
        "evals = np.linalg.eigvals(JJMat)\n",
        "evals  = (1.0/ norm)*evals\n",
        "\n",
        "fit = powerlaw.Fit(evals)\n",
        "alpha = fit.alpha\n",
        "D = fit.D\n",
        "max_eval = np.max(evals)\n",
        "\n",
        "plt.hist(evals, bins=100)\n",
        "plt.title(\"{}  alpha = {:0.2f} max  = {:0.2f} \".format(thismodel, alpha, max_eval))\n",
        "plt.show()\n",
        "\n",
        "print(alpha, D, max_eval)\n"
      ],
      "execution_count": 0,
      "outputs": []
    },
    {
      "cell_type": "code",
      "metadata": {
        "id": "4edrT68e2MRm",
        "colab_type": "code",
        "colab": {}
      },
      "source": [
        ""
      ],
      "execution_count": 0,
      "outputs": []
    }
  ]
}